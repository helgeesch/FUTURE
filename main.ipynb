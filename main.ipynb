{
 "cells": [
  {
   "cell_type": "markdown",
   "metadata": {},
   "source": [
    "# FUTURE\n",
    "### Fourier Transformation Tool to Unravel Renewable Intermittency in the European Power System of the Future"
   ]
  },
  {
   "cell_type": "markdown",
   "metadata": {},
   "source": [
    "__Welcome!__ This Notebook is split in three sections:\n",
    "1. Building the database\n",
    "    * Importing the data, <br>\n",
    "    * Applying a capacity scenario,<br>\n",
    "    * Adding custom regions,<br>\n",
    "    * Adding custom variables (e.g. residual load)\n",
    "2. Flexibility requirements analysis with Fourier decomposed time-series\n",
    "    * Decomposed time series visualization\n",
    "    * Flexibility requirements visualization\n",
    "    * Energy yield visualization\n",
    "3. Interrregional correlation analysis between different variables and spectra"
   ]
  },
  {
   "cell_type": "code",
   "execution_count": null,
   "metadata": {},
   "outputs": [],
   "source": [
    "# First, let's set up the environment\n",
    "\n",
    "import pandas as pd\n",
    "from src.pecd_handling import read_pecd_xls_file, add_custom_variable, add_custom_region\n",
    "from src.helpers.fft import add_decomposed_ts\n",
    "\n",
    "%load_ext autoreload\n",
    "%autoreload 2\n",
    "\n",
    "import plotly.io as pio\n",
    "pio.templates.default = \"seaborn\"\n",
    "\n",
    "from IPython.core.display import display, HTML\n",
    "display(HTML(\"<style>.container { width:90% !important; }</style>\"))\n"
   ]
  },
  {
   "cell_type": "markdown",
   "metadata": {},
   "source": [
    "The following Javascript line is required so that the plots are not shown in a scrollable window but as collapsed windows"
   ]
  },
  {
   "cell_type": "code",
   "execution_count": null,
   "metadata": {},
   "outputs": [],
   "source": [
    "%%javascript \n",
    "IPython.OutputArea.prototype._should_scroll = function(lines) {return false;}"
   ]
  },
  {
   "cell_type": "markdown",
   "metadata": {},
   "source": [
    "## Building the database"
   ]
  },
  {
   "cell_type": "markdown",
   "metadata": {},
   "source": [
    "We have added a small sample database in the repository natively. In order to work with the full PECD dataset, please refer to the links in the README and download the respective excel files."
   ]
  },
  {
   "cell_type": "code",
   "execution_count": null,
   "metadata": {},
   "outputs": [],
   "source": [
    "# --- LOADING RES AND LOAD TIME SERIES FROM THE PECD FORMAT --- #\n",
    "\n",
    "pv =       read_pecd_xls_file('.\\\\data\\\\pecd_sample\\\\PECD_2030_PV.xlsx')\n",
    "onshore =  read_pecd_xls_file('.\\\\data\\\\pecd_sample\\\\PECD_2030_Onshore.xlsx')\n",
    "offshore = read_pecd_xls_file('.\\\\data\\\\pecd_sample\\\\PECD_2030_Offshore.xlsx')\n",
    "load =     read_pecd_xls_file('.\\\\data\\\\pecd_sample\\\\MAF2020_DemandTimeSeries_2030.xlsx')\n",
    "\n",
    "df = pd.concat({'load': load, 'pv': pv, 'onshore': onshore, 'offshore': offshore}, names=['variable'], axis=1)\n",
    "df = df.reorder_levels(['region', 'variable'], axis=1)\n",
    "del pv, onshore, offshore, load  # no need for those anymore, they're in df now."
   ]
  },
  {
   "cell_type": "code",
   "execution_count": null,
   "metadata": {},
   "outputs": [],
   "source": [
    "# --- LOADING CAPACITY SCENARIO AND SCALING RES TIME SERIES --- #\n",
    "\n",
    "# You can choose an available sheetname from the RES_capacity_scenarios Excel file\n",
    "caps = pd.read_excel('data/RES_capacity_scenarios.xlsx', sheet_name='MAF_2030', index_col=0)\n",
    "caps.columns.name = 'variable'\n",
    "caps.loc[:, 'load'] = 1  # 'load' must be set here as a scaling factor for the next setp\n",
    "\n",
    "df = df.multiply(caps.stack(), axis=1).dropna(axis=1)  # scaling the RES time series"
   ]
  },
  {
   "cell_type": "code",
   "execution_count": null,
   "metadata": {},
   "outputs": [],
   "source": [
    "# You can add custom regions if you wish to understand a hypothetical merge between those\n",
    "df = add_custom_region(df, 'custom_region_1', ['DE00', 'BE00', 'FR00'], method='sum')"
   ]
  },
  {
   "cell_type": "code",
   "execution_count": null,
   "metadata": {},
   "outputs": [],
   "source": [
    "# If you have a subset of regions that is of interest, make the dataframe smaller and as a result your operations will be faster\n",
    "# df = df[['DE00', 'BE00', 'FR00', 'custom_region_1']]"
   ]
  },
  {
   "cell_type": "code",
   "execution_count": null,
   "metadata": {},
   "outputs": [],
   "source": [
    "# Custom variables can be defined by defining the sum of existing variables with respective multipliers\n",
    "df = add_custom_variable(df, 'RES_sum', {'offshore': 1, 'onshore': 1, 'pv': 1})  # the sum of all three RES technologies\n",
    "df = add_custom_variable(df, 'residual_load', {'load': 1, 'offshore': -1, 'onshore': -1, 'pv': -1})\n",
    "df = df.sort_index(axis=1)"
   ]
  },
  {
   "cell_type": "code",
   "execution_count": null,
   "metadata": {},
   "outputs": [],
   "source": [
    "df.head().round(2)"
   ]
  },
  {
   "cell_type": "markdown",
   "metadata": {},
   "source": [
    "### Adding Fourier Decomposition\n",
    "In the following step we will add an index level with the fourier decomposed time series for different spectra.\n",
    "\n",
    "You can set a boolean parameter for removing the DC componenet as well as accumulating the spectra.\n",
    "\n",
    "__remove_dc:__ If you remove the DC component, you will remove the mean from the time series. The decomposed Fourier spectrum will thus be centered around zero. In the paper, the DC component was indeed removed.\n",
    "\n",
    "__accumulate_spectra:__ If you accumulate spectra, the spectra are not strictly split. Rather, each spectrum includes the sum of itself plus all spectrums above (e.g. the mongthly spectrum is actually the sum of the seasonal + monthly, and so on). This is useful especially for the flexibility requirement analysis, as it enables you to identify the flexibility requirements for the sum of the spectra."
   ]
  },
  {
   "cell_type": "code",
   "execution_count": null,
   "metadata": {},
   "outputs": [],
   "source": [
    "df = add_decomposed_ts(df, remove_dc=True, accumulate_spectra=True)"
   ]
  },
  {
   "cell_type": "code",
   "execution_count": null,
   "metadata": {},
   "outputs": [],
   "source": [
    "# feel free to have a look at the DataFrame structure with the various spectra\n",
    "df.head().round(2)"
   ]
  },
  {
   "cell_type": "code",
   "execution_count": null,
   "metadata": {},
   "outputs": [],
   "source": []
  },
  {
   "cell_type": "markdown",
   "metadata": {},
   "source": [
    "## Dashboards\n",
    "### Time Series Decomposition"
   ]
  },
  {
   "cell_type": "code",
   "execution_count": null,
   "metadata": {},
   "outputs": [],
   "source": [
    "from src.dashboards import TimeSeriesDashboard\n",
    "tsd = TimeSeriesDashboard(df)\n",
    "tsd.interact()\n",
    "\n",
    "# In the UI, please select what you want to visualize for the decomposed time series analysis.\n",
    "# In the first row you can select a subset of the data that you want to visualize (e.g. regions, variables, spectra)\n",
    "# In the second row you can setup the plot grid. \n",
    "# Every level (regions, variables, spectra) for which you have selected more than one item,\n",
    "# should definitely be included in the plot grid setup (rows, columns, color, line dash).\n",
    "# In addition, you can enable to show the (95% / 5%) confidence interval as line_dash option."
   ]
  },
  {
   "cell_type": "markdown",
   "metadata": {},
   "source": [
    "### Flexibility Requirements Analysis \n",
    " \n",
    "TODO: Comment on upward flexibility requirements"
   ]
  },
  {
   "cell_type": "code",
   "execution_count": null,
   "metadata": {},
   "outputs": [],
   "source": [
    "from src.dashboards import FlexibilityRequirementDashboard\n",
    "frd = FlexibilityRequirementDashboard(df)\n",
    "frd.interact()"
   ]
  },
  {
   "cell_type": "markdown",
   "metadata": {},
   "source": [
    " ### Energy Yield Analysis "
   ]
  },
  {
   "cell_type": "code",
   "execution_count": null,
   "metadata": {},
   "outputs": [],
   "source": [
    "from src.dashboards import EnergyYieldDashboard\n",
    "eyd = EnergyYieldDashboard(df)\n",
    "eyd.interact()\n",
    "\n",
    "# The values in TWh are annualized"
   ]
  },
  {
   "cell_type": "code",
   "execution_count": null,
   "metadata": {},
   "outputs": [],
   "source": []
  },
  {
   "cell_type": "markdown",
   "metadata": {},
   "source": [
    "### Interrregional correlation analysis between different variables and spectra"
   ]
  },
  {
   "cell_type": "code",
   "execution_count": null,
   "metadata": {},
   "outputs": [],
   "source": []
  },
  {
   "cell_type": "code",
   "execution_count": null,
   "metadata": {},
   "outputs": [],
   "source": []
  }
 ],
 "metadata": {
  "kernelspec": {
   "display_name": "Python 3",
   "language": "python",
   "name": "python3"
  },
  "language_info": {
   "codemirror_mode": {
    "name": "ipython",
    "version": 3
   },
   "file_extension": ".py",
   "mimetype": "text/x-python",
   "name": "python",
   "nbconvert_exporter": "python",
   "pygments_lexer": "ipython3",
   "version": "3.6.5"
  }
 },
 "nbformat": 4,
 "nbformat_minor": 2
}
